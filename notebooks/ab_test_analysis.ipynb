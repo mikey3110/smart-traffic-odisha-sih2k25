{
  "cells": [
    {
      "cell_type": "markdown",
      "metadata": {},
      "source": [
        "# A/B Test Analysis for Traffic Signal Optimization\n",
        "\n",
        "This notebook analyzes the results of A/B tests comparing ML-optimized traffic signals against baseline timings.\n",
        "\n",
        "## Overview\n",
        "- **ML Optimization**: Machine learning-based traffic signal control\n",
        "- **Baseline Methods**: Fixed timing, Webster's formula, Actuated control\n",
        "- **Metrics**: Wait times, throughput, queue lengths, fuel consumption, emissions\n",
        "- **Statistical Analysis**: T-tests, effect sizes, confidence intervals\n",
        "\n",
        "## Test Scenarios\n",
        "1. Normal Traffic: ML vs Baseline Fixed Timing\n",
        "2. Rush Hour: ML vs Webster's Formula\n",
        "3. Emergency Scenario: ML vs Baseline\n",
        "4. Low Traffic: ML vs Baseline\n",
        "5. High Traffic: ML vs Webster's Formula\n"
      ]
    },
    {
      "cell_type": "code",
      "execution_count": null,
      "metadata": {},
      "outputs": [],
      "source": [
        "import pandas as pd\n",
        "import numpy as np\n",
        "import matplotlib.pyplot as plt\n",
        "import seaborn as sns\n",
        "import json\n",
        "import os\n",
        "from datetime import datetime\n",
        "import warnings\n",
        "warnings.filterwarnings('ignore')\n",
        "\n",
        "# Set plotting style\n",
        "plt.style.use('seaborn-v0_8')\n",
        "sns.set_palette(\"husl\")\n",
        "\n",
        "# Configure matplotlib\n",
        "plt.rcParams['figure.figsize'] = (12, 8)\n",
        "plt.rcParams['font.size'] = 12\n",
        "plt.rcParams['axes.labelsize'] = 14\n",
        "plt.rcParams['axes.titlesize'] = 16\n",
        "plt.rcParams['xtick.labelsize'] = 12\n",
        "plt.rcParams['ytick.labelsize'] = 12\n",
        "plt.rcParams['legend.fontsize'] = 12\n",
        "\n",
        "print(\"Libraries imported successfully\")\n"
      ]
    }
  ],
  "metadata": {
    "language_info": {
      "name": "python"
    }
  },
  "nbformat": 4,
  "nbformat_minor": 2
}
